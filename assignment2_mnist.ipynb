{
 "cells": [
  {
   "cell_type": "code",
   "execution_count": 1,
   "metadata": {},
   "outputs": [
    {
     "name": "stderr",
     "output_type": "stream",
     "text": [
      "/anaconda3/lib/python3.6/site-packages/h5py/__init__.py:36: FutureWarning: Conversion of the second argument of issubdtype from `float` to `np.floating` is deprecated. In future, it will be treated as `np.float64 == np.dtype(float).type`.\n",
      "  from ._conv import register_converters as _register_converters\n"
     ]
    },
    {
     "name": "stdout",
     "output_type": "stream",
     "text": [
      "1.11.0\n"
     ]
    },
    {
     "name": "stderr",
     "output_type": "stream",
     "text": [
      "Using TensorFlow backend.\n"
     ]
    }
   ],
   "source": [
    "import gzip\n",
    "import struct\n",
    "import time\n",
    "\n",
    "import numpy as np\n",
    "import tensorflow as tf\n",
    "import numpy.linalg as lng\n",
    "\n",
    "from tensorflow import keras\n",
    "from sklearn import preprocessing\n",
    "from sklearn.linear_model import LogisticRegression\n",
    "\n",
    "from tensorflow.keras.utils import to_categorical\n",
    "\n",
    "from keras.models import Sequential\n",
    "from keras.layers import Dense, Dropout, Activation, Flatten\n",
    "from keras.layers import Conv2D, MaxPooling2D\n",
    "\n",
    "from sklearn.model_selection import cross_val_score\n",
    "\n",
    "print(tf.__version__)"
   ]
  },
  {
   "cell_type": "code",
   "execution_count": 2,
   "metadata": {
    "scrolled": true
   },
   "outputs": [
    {
     "name": "stdout",
     "output_type": "stream",
     "text": [
      "(10000, 784)\n",
      "(10000, 1)\n"
     ]
    }
   ],
   "source": [
    "dataset_mnist = np.load('mnist_dataset.npz')\n",
    "Xtr = dataset_mnist['Xtr']    #training data\n",
    "Str = dataset_mnist['Str']    #training label\n",
    "Xts = dataset_mnist['Xts']    #test data\n",
    "Yts = dataset_mnist['Yts']    #test label\n",
    "print(Xtr.shape)\n",
    "print(Str.shape)"
   ]
  },
  {
   "cell_type": "code",
   "execution_count": 3,
   "metadata": {},
   "outputs": [],
   "source": [
    "#Form convolutional neural network\n",
    "model = keras.Sequential([\n",
    "    \n",
    "    keras.layers.Conv2D(32, (5, 5), use_bias=True, padding='same', activation='relu'),\n",
    "    keras.layers.MaxPooling2D(pool_size=(2, 2)),\n",
    "    keras.layers.Conv2D(32, (5, 5), use_bias=True, padding='same', activation='relu'),\n",
    "    keras.layers.MaxPooling2D(pool_size=(2, 2)),\n",
    "    keras.layers.Dropout(0.15),\n",
    "    \n",
    "    keras.layers.Conv2D(64, (5, 5), use_bias=True, padding='same', activation='relu'),\n",
    "    keras.layers.MaxPooling2D(pool_size=(2, 2)),\n",
    "    keras.layers.Conv2D(64, (5, 5), use_bias=True, padding='same', activation='relu'),\n",
    "    keras.layers.MaxPooling2D(pool_size=(2, 2)),\n",
    "    keras.layers.Dropout(0.15),\n",
    "    \n",
    "    keras.layers.Flatten(),\n",
    "    keras.layers.Dense(512, activation='relu', use_bias=True),\n",
    "    keras.layers.Dropout(0.15),\n",
    "\n",
    "    keras.layers.Dense(2, activation=tf.nn.softmax)\n",
    "    \n",
    "])\n",
    "#Configures the model for training\n",
    "model.compile(optimizer = 'adam',\n",
    "             loss = 'categorical_crossentropy',\n",
    "             metrics = ['accuracy'])"
   ]
  },
  {
   "cell_type": "code",
   "execution_count": 5,
   "metadata": {},
   "outputs": [
    {
     "name": "stdout",
     "output_type": "stream",
     "text": [
      "Epoch 1/2\n",
      "8000/8000 [==============================] - 15s 2ms/step - loss: 0.6068 - acc: 0.6786\n",
      "Epoch 2/2\n",
      "8000/8000 [==============================] - 15s 2ms/step - loss: 0.5991 - acc: 0.6830\n",
      "2000/2000 [==============================] - 1s 642us/step\n",
      "0.6141155781745911 0.6705\n",
      "Epoch 1/2\n",
      "8000/8000 [==============================] - 16s 2ms/step - loss: 0.6013 - acc: 0.6825\n",
      "Epoch 2/2\n",
      "8000/8000 [==============================] - 16s 2ms/step - loss: 0.5974 - acc: 0.6874\n",
      "2000/2000 [==============================] - 1s 587us/step\n",
      "0.5811755175590515 0.691\n",
      "Epoch 1/2\n",
      "8000/8000 [==============================] - 15s 2ms/step - loss: 0.5931 - acc: 0.6918\n",
      "Epoch 2/2\n",
      "8000/8000 [==============================] - 15s 2ms/step - loss: 0.5885 - acc: 0.6971\n",
      "2000/2000 [==============================] - 1s 594us/step\n",
      "0.5915079760551453 0.691\n",
      "Epoch 1/2\n",
      "8000/8000 [==============================] - 15s 2ms/step - loss: 0.5842 - acc: 0.6996\n",
      "Epoch 2/2\n",
      "8000/8000 [==============================] - 15s 2ms/step - loss: 0.5807 - acc: 0.7071\n",
      "2000/2000 [==============================] - 1s 581us/step\n",
      "0.6013748474121093 0.6855\n",
      "Epoch 1/2\n",
      "8000/8000 [==============================] - 15s 2ms/step - loss: 0.5814 - acc: 0.7024\n",
      "Epoch 2/2\n",
      "8000/8000 [==============================] - 17s 2ms/step - loss: 0.5745 - acc: 0.7064\n",
      "2000/2000 [==============================] - 1s 733us/step\n",
      "0.5675721838474274 0.7125\n"
     ]
    }
   ],
   "source": [
    "arr = np.arange(10000)\n",
    "np.random.shuffle(arr)\n",
    "for n in[0,2000,4000,6000,8000]: \n",
    "    m = n + 2000\n",
    "    tmp2 = arr[n:m]\n",
    "    tmp1 = np.append(arr[m:10000],arr[0:n])\n",
    "    Xtr_80=Xtr[tmp1] #80% training data\n",
    "    Str_80=Str[tmp1] #80% training label\n",
    "    Xtr_20=Xtr[tmp2]\n",
    "    Str_20=Str[tmp2]\n",
    "    Xtr_cnn_20 = Xtr_20.reshape(len(Xtr_20), 28, 28, 1).astype(np.float32) / 255.0 \n",
    "    Xtr_cnn_80 = Xtr_80.reshape(len(Xtr_80), 28, 28, 1).astype(np.float32) / 255.0 \n",
    "    Str_cnn_20 = keras.utils.to_categorical(Str_20, 2) \n",
    "    Str_cnn_80 = keras.utils.to_categorical(Str_80, 2)\n",
    "    model.fit(Xtr_cnn_80,Str_cnn_80,epochs = 2)\n",
    "    test_loss, test_acc = model.evaluate(Xtr_cnn_20, Str_cnn_20)\n",
    "    print(test_loss, test_acc)"
   ]
  },
  {
   "cell_type": "code",
   "execution_count": 6,
   "metadata": {},
   "outputs": [],
   "source": [
    "#Xtr_cnn is used as training data for CNN model\n",
    "Xtr_cnn = Xtr.reshape(len(Xtr), 28, 28, 1).astype(np.float32) / 255.0 \n",
    "#Str_cnn is used as training label for CNN model\n",
    "Str_cnn = keras.utils.to_categorical(Str, 2) "
   ]
  },
  {
   "cell_type": "code",
   "execution_count": 7,
   "metadata": {},
   "outputs": [
    {
     "data": {
      "text/plain": [
       "(10000, 28, 28, 1)"
      ]
     },
     "execution_count": 7,
     "metadata": {},
     "output_type": "execute_result"
    }
   ],
   "source": [
    "Xtr_cnn.shape"
   ]
  },
  {
   "cell_type": "code",
   "execution_count": 8,
   "metadata": {
    "scrolled": false
   },
   "outputs": [
    {
     "name": "stdout",
     "output_type": "stream",
     "text": [
      "Epoch 1/10\n",
      "8000/8000 [==============================] - 16s 2ms/step - loss: 0.5664 - acc: 0.7150\n",
      "Epoch 2/10\n",
      "8000/8000 [==============================] - 16s 2ms/step - loss: 0.5540 - acc: 0.7266\n",
      "Epoch 3/10\n",
      "8000/8000 [==============================] - 16s 2ms/step - loss: 0.5414 - acc: 0.7303\n",
      "Epoch 4/10\n",
      "8000/8000 [==============================] - 15s 2ms/step - loss: 0.5248 - acc: 0.7451\n",
      "Epoch 5/10\n",
      "8000/8000 [==============================] - 15s 2ms/step - loss: 0.4986 - acc: 0.7545\n",
      "Epoch 6/10\n",
      "8000/8000 [==============================] - 15s 2ms/step - loss: 0.4780 - acc: 0.7678\n",
      "Epoch 7/10\n",
      "8000/8000 [==============================] - 16s 2ms/step - loss: 0.4506 - acc: 0.7849\n",
      "Epoch 8/10\n",
      "8000/8000 [==============================] - 16s 2ms/step - loss: 0.4215 - acc: 0.8016\n",
      "Epoch 9/10\n",
      "8000/8000 [==============================] - 15s 2ms/step - loss: 0.3920 - acc: 0.8191\n",
      "Epoch 10/10\n",
      "8000/8000 [==============================] - 15s 2ms/step - loss: 0.3657 - acc: 0.8356\n"
     ]
    },
    {
     "data": {
      "text/plain": [
       "<tensorflow.python.keras.callbacks.History at 0x1a1db2c978>"
      ]
     },
     "execution_count": 8,
     "metadata": {},
     "output_type": "execute_result"
    }
   ],
   "source": [
    "#Trains the model for a given number of epochs (iterations on a dataset)\n",
    "model.fit(Xtr_cnn_80,Str_cnn_80,epochs = 10)"
   ]
  },
  {
   "cell_type": "code",
   "execution_count": 9,
   "metadata": {},
   "outputs": [
    {
     "name": "stdout",
     "output_type": "stream",
     "text": [
      "2000/2000 [==============================] - 1s 568us/step\n",
      "0.8455315637588501 0.654\n"
     ]
    }
   ],
   "source": [
    "test_loss, test_acc = model.evaluate(Xtr_cnn_20, Str_cnn_20)\n",
    "print(test_loss, test_acc)"
   ]
  },
  {
   "cell_type": "code",
   "execution_count": 10,
   "metadata": {
    "scrolled": true
   },
   "outputs": [
    {
     "name": "stdout",
     "output_type": "stream",
     "text": [
      "[[6.9243923e-02 9.3075609e-01]\n",
      " [8.0211955e-01 1.9788043e-01]\n",
      " [6.0605147e-04 9.9939394e-01]\n",
      " [9.5495754e-01 4.5042388e-02]\n",
      " [9.5864701e-01 4.1352946e-02]]\n",
      "(10000, 2)\n"
     ]
    }
   ],
   "source": [
    "#Generates output predictions for the input samples.\n",
    "prediction = model.predict(Xtr_cnn)\n",
    "print(prediction[:5])\n",
    "print(prediction.shape)"
   ]
  },
  {
   "cell_type": "code",
   "execution_count": 11,
   "metadata": {},
   "outputs": [
    {
     "name": "stdout",
     "output_type": "stream",
     "text": [
      "0.19788043\n",
      "0.06924392\n"
     ]
    }
   ],
   "source": [
    "#Calculate p0 and p1 according to the function in lecture slides\n",
    "p0 = np.min(prediction[1]) \n",
    "p1 = np.min(prediction[0]) \n",
    "print(p0)\n",
    "print(p1)"
   ]
  },
  {
   "cell_type": "code",
   "execution_count": 12,
   "metadata": {},
   "outputs": [],
   "source": [
    "#Generate beta according to the function in lecture slides\n",
    "def generatebeta (Str,prediction,p0,p1): \n",
    "    beta = np.zeros((len(prediction ),1)) \n",
    "    for i in range(len(prediction)): \n",
    "        if Str[i] == 0 : \n",
    "            beta[i] = ((prediction[i][0] - p1) / ((1 - p0 - p1) * prediction[i][0]))\n",
    "        else:\n",
    "            beta[i] = ((prediction[i][1] - p0) / ((1 - p0 - p1) * prediction[i][1]))\n",
    "    return beta "
   ]
  },
  {
   "cell_type": "code",
   "execution_count": 13,
   "metadata": {},
   "outputs": [
    {
     "name": "stdout",
     "output_type": "stream",
     "text": [
      "[[0.        ]\n",
      " [1.24669695]\n",
      " [1.09431874]\n",
      " [1.26554904]\n",
      " [1.26592981]]\n"
     ]
    }
   ],
   "source": [
    "beta = generatebeta (Str,prediction,p0,p1) #Generate beta\n",
    "\n",
    "for i in range(len(beta)):\n",
    "    if beta[i] < 0:\n",
    "        beta[i] = 0.0\n",
    "\n",
    "print(beta[:5]) "
   ]
  },
  {
   "cell_type": "code",
   "execution_count": 14,
   "metadata": {},
   "outputs": [],
   "source": [
    "def computeAccuracy(Y,pred_Y): \n",
    "    acc = 0.0\n",
    "    for i in range(len(Y)):\n",
    "        if Y[i] == pred_Y[i]:\n",
    "            acc += 1.0\n",
    "    return acc/len(Y)"
   ]
  },
  {
   "cell_type": "code",
   "execution_count": 15,
   "metadata": {},
   "outputs": [],
   "source": [
    "Xtr_lr = Xtr_cnn.reshape(10000,784).astype(np.float32)"
   ]
  },
  {
   "cell_type": "code",
   "execution_count": 26,
   "metadata": {},
   "outputs": [],
   "source": [
    "t1 = time.time()\n",
    "clf_b = LogisticRegression().fit(Xtr_lr, Str.flatten(), beta.flatten())\n",
    "t2 = time.time()\n"
   ]
  },
  {
   "cell_type": "code",
   "execution_count": 24,
   "metadata": {},
   "outputs": [
    {
     "data": {
      "text/plain": [
       "array([0.63818091, 0.642     , 0.6595    , 0.665     , 0.67383692])"
      ]
     },
     "execution_count": 24,
     "metadata": {},
     "output_type": "execute_result"
    }
   ],
   "source": [
    "#corss validation \n",
    "scores = cross_val_score(clf_b, Xtr_lr, Str.flatten(), cv=5)\n",
    "scores"
   ]
  },
  {
   "cell_type": "code",
   "execution_count": 25,
   "metadata": {},
   "outputs": [
    {
     "name": "stdout",
     "output_type": "stream",
     "text": [
      "Accuracy: 0.66 (+/- 0.03)\n"
     ]
    }
   ],
   "source": [
    "print(\"Accuracy: %0.2f (+/- %0.2f)\" % (scores.mean(), scores.std() * 2))"
   ]
  },
  {
   "cell_type": "code",
   "execution_count": 29,
   "metadata": {},
   "outputs": [
    {
     "name": "stdout",
     "output_type": "stream",
     "text": [
      "0.8765   time: 2.8897018432617188\n"
     ]
    }
   ],
   "source": [
    "pred_Y_b = clf_b.predict(Xts)\n",
    "\n",
    "acc = computeAccuracy(Yts,pred_Y_b)\n",
    "print(acc,\"  time:\",t2 - t1)"
   ]
  },
  {
   "cell_type": "code",
   "execution_count": 20,
   "metadata": {},
   "outputs": [],
   "source": [
    "def generatealpha(p0,p1):\n",
    "    alpha = ((1-p1+p0) / 2)\n",
    "    return alpha"
   ]
  },
  {
   "cell_type": "code",
   "execution_count": 21,
   "metadata": {},
   "outputs": [
    {
     "name": "stdout",
     "output_type": "stream",
     "text": [
      "0.5643182545900345\n"
     ]
    }
   ],
   "source": [
    "alpha = generatealpha(p0,p1)\n",
    "print(alpha)"
   ]
  },
  {
   "cell_type": "code",
   "execution_count": 22,
   "metadata": {},
   "outputs": [
    {
     "name": "stdout",
     "output_type": "stream",
     "text": [
      "10000\n",
      "[0.5643182545900345, 0.5643182545900345, 0.4356817454099655, 0.5643182545900345, 0.5643182545900345]\n"
     ]
    }
   ],
   "source": [
    "alpha_weight = []\n",
    "\n",
    "for i in range(len(Str)):\n",
    "    if Str[i] == 1:\n",
    "        alpha_weight.append(1-alpha)\n",
    "    else:\n",
    "        alpha_weight.append(alpha)\n",
    "\n",
    "print(len(alpha_weight))\n",
    "print(alpha_weight[:5])"
   ]
  },
  {
   "cell_type": "code",
   "execution_count": 23,
   "metadata": {},
   "outputs": [
    {
     "name": "stdout",
     "output_type": "stream",
     "text": [
      "0.8845\n"
     ]
    }
   ],
   "source": [
    "t3 = time\n",
    "clf_a = LogisticRegression().fit(Xtr_lr, Str.flatten(), alpha_weight)\n",
    "\n",
    "pred_Y_a = clf_a.predict(Xts)\n",
    "\n",
    "acc = computeAccuracy(Yts,pred_Y_a)\n",
    "print(acc)"
   ]
  }
 ],
 "metadata": {
  "kernelspec": {
   "display_name": "Python 3",
   "language": "python",
   "name": "python3"
  },
  "language_info": {
   "codemirror_mode": {
    "name": "ipython",
    "version": 3
   },
   "file_extension": ".py",
   "mimetype": "text/x-python",
   "name": "python",
   "nbconvert_exporter": "python",
   "pygments_lexer": "ipython3",
   "version": "3.6.4"
  }
 },
 "nbformat": 4,
 "nbformat_minor": 2
}
